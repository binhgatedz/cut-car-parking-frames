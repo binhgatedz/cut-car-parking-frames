{
 "cells": [
  {
   "cell_type": "markdown",
   "id": "ac1cd3ff-624e-45f8-970d-987f0cde5a5d",
   "metadata": {},
   "source": [
    "# YOLOv5 DeepSort OSNet"
   ]
  },
  {
   "cell_type": "code",
   "execution_count": 2,
   "id": "5b87ed6c-62c6-4c6c-a74a-9a63e78ca2a1",
   "metadata": {},
   "outputs": [],
   "source": [
    "!git clone --recurse-submodules https://github.com/mikel-brostrom/Yolov5_DeepSort_OSNet.git"
   ]
  },
  {
   "cell_type": "code",
   "execution_count": 3,
   "id": "302f9f7b-5008-4f07-b0a7-64fc23bf6619",
   "metadata": {},
   "outputs": [
    {
     "name": "stdout",
     "output_type": "stream",
     "text": [
      "/home/binhnh11/binh/remove_flame_car/Yolov5_DeepSort_OSNet\n"
     ]
    }
   ],
   "source": [
    "cd Yolov5_DeepSort_OSNet"
   ]
  },
  {
   "cell_type": "code",
   "execution_count": 4,
   "id": "0f8606aa-6778-47b6-a0bf-58390db2e86c",
   "metadata": {},
   "outputs": [],
   "source": [
    "pip install -r requirements.txt"
   ]
  },
  {
   "cell_type": "code",
   "execution_count": null,
   "id": "7e334cc4-e85d-4f4a-8316-89c07ecee52d",
   "metadata": {},
   "outputs": [],
   "source": [
    "# Check 1 video\n",
    "!python track.py --yolo_model car.pt --source video.mp4 --conf-thres 0.5 --save-txt --classes 3"
   ]
  },
  {
   "cell_type": "code",
   "execution_count": null,
   "id": "88ad5a41-78c0-48c7-8f30-171da3f14ba6",
   "metadata": {},
   "outputs": [],
   "source": [
    "# Check all video in a folder\n",
    "!python track2.py --yolo_model car.pt --sources /video_folder/extracted_videos/ --conf-thres 0.5 --save-txt --classes 3"
   ]
  },
  {
   "cell_type": "code",
   "execution_count": null,
   "id": "717c987b-7a7f-41cf-89f0-cd4be6596bfc",
   "metadata": {},
   "outputs": [],
   "source": [
    "# Check video save in txt file\n",
    "!python track3.py --yolo_model car.pt --sources video_paths.txt --conf-thres 0.5 --save-txt --classes 3"
   ]
  }
 ],
 "metadata": {
  "kernelspec": {
   "display_name": "Python 3 (ipykernel)",
   "language": "python",
   "name": "python3"
  },
  "language_info": {
   "codemirror_mode": {
    "name": "ipython",
    "version": 3
   },
   "file_extension": ".py",
   "mimetype": "text/x-python",
   "name": "python",
   "nbconvert_exporter": "python",
   "pygments_lexer": "ipython3",
   "version": "3.8.12"
  }
 },
 "nbformat": 4,
 "nbformat_minor": 5
}
