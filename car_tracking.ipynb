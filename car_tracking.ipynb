{
 "cells": [
  {
   "cell_type": "markdown",
   "id": "45f99b30-44bf-420d-8e34-136ab6e64847",
   "metadata": {
    "jp-MarkdownHeadingCollapsed": true,
    "tags": []
   },
   "source": [
    "# Check datasets"
   ]
  },
  {
   "cell_type": "code",
   "execution_count": 1,
   "id": "4f02cc3d-cd60-40c5-842b-4263fff847cb",
   "metadata": {},
   "outputs": [],
   "source": [
    "# from glob import glob\n",
    "# from os.path import join as opj\n",
    "# import cv2"
   ]
  },
  {
   "cell_type": "code",
   "execution_count": 2,
   "id": "ae94e35d-9a90-4e7e-a0fb-28250c03a8df",
   "metadata": {},
   "outputs": [],
   "source": [
    "# sources = '/data/extracted_videos/*'\n",
    "# paths = glob(sources)\n",
    "# total = 0\n",
    "# length = 0\n",
    "# while len(paths) != 0:\n",
    "#     for path in paths:\n",
    "#         if path[-4:] != '.mp4':\n",
    "#             continue\n",
    "#         # print(f'\\n\\n\\n\\n\\nHandle {path}')\n",
    "#         total += 1\n",
    "#         cap = cv2.VideoCapture(path)\n",
    "#         length += int(cap.get(cv2.CAP_PROP_FRAME_COUNT))\n",
    "#     sources = opj(sources,'*')\n",
    "#     paths = glob(sources)"
   ]
  },
  {
   "cell_type": "code",
   "execution_count": 3,
   "id": "1e3ba703-9cf8-4d2f-9875-02da626291ac",
   "metadata": {},
   "outputs": [],
   "source": [
    "# total\n",
    "# 987"
   ]
  },
  {
   "cell_type": "code",
   "execution_count": 4,
   "id": "376c52d6-fb2f-480f-84e0-b6f20a1daaa2",
   "metadata": {},
   "outputs": [],
   "source": [
    "# length\n",
    "# 2660370"
   ]
  },
  {
   "cell_type": "markdown",
   "id": "ac1cd3ff-624e-45f8-970d-987f0cde5a5d",
   "metadata": {
    "tags": []
   },
   "source": [
    "# YOLOv5 DeepSort OSNet"
   ]
  },
  {
   "cell_type": "code",
   "execution_count": 5,
   "id": "17c7e31a-f976-4e43-afc8-08bb58d7ee82",
   "metadata": {},
   "outputs": [],
   "source": [
    "# cd /home/binhnh11/binh/remove_flame_car"
   ]
  },
  {
   "cell_type": "code",
   "execution_count": 6,
   "id": "5b87ed6c-62c6-4c6c-a74a-9a63e78ca2a1",
   "metadata": {},
   "outputs": [],
   "source": [
    "# !git clone --recurse-submodules https://github.com/mikel-brostrom/Yolov5_DeepSort_OSNet.git"
   ]
  },
  {
   "cell_type": "code",
   "execution_count": 7,
   "id": "302f9f7b-5008-4f07-b0a7-64fc23bf6619",
   "metadata": {},
   "outputs": [
    {
     "name": "stdout",
     "output_type": "stream",
     "text": [
      "/home/binhnh11/binh/remove_flame_car/Yolov5_DeepSort_OSNet\n"
     ]
    }
   ],
   "source": [
    "cd /home/binhnh11/binh/remove_flame_car/Yolov5_DeepSort_OSNet"
   ]
  },
  {
   "cell_type": "code",
   "execution_count": 8,
   "id": "0f8606aa-6778-47b6-a0bf-58390db2e86c",
   "metadata": {},
   "outputs": [],
   "source": [
    "# pip install -r requirements.txt"
   ]
  },
  {
   "cell_type": "code",
   "execution_count": 9,
   "id": "7e334cc4-e85d-4f4a-8316-89c07ecee52d",
   "metadata": {},
   "outputs": [],
   "source": [
    "# Check 1 video\n",
    "# !python track.py --yolo_model car.pt --source /data/extracted_videos/train/timescity/20220426/D02/D02_20220425190744/D02_20220425190744_event_0005.mp4 --conf-thres 0.5 --save-vid --save-txt --classes 3 --frames-to-get-result 20"
   ]
  },
  {
   "cell_type": "code",
   "execution_count": null,
   "id": "88ad5a41-78c0-48c7-8f30-171da3f14ba6",
   "metadata": {},
   "outputs": [],
   "source": [
    "# Check all video in a folder\n",
    "!python track2.py --yolo_model car.pt --sources /data/extracted_videos/ --conf-thres 0.5 --save-vid --save-txt --classes 3 --frames-to-get-result 20"
   ]
  },
  {
   "cell_type": "code",
   "execution_count": 11,
   "id": "717c987b-7a7f-41cf-89f0-cd4be6596bfc",
   "metadata": {},
   "outputs": [],
   "source": [
    "# Check video save in txt file\n",
    "# !python track3.py --yolo_model car.pt --sources /home/binhnh11/binh/ipynb/error_paths.txt --conf-thres 0.5  --save-vid --save-txt --classes 3 --frames-to-get-result 20"
   ]
  }
 ],
 "metadata": {
  "kernelspec": {
   "display_name": "Python 3 (ipykernel)",
   "language": "python",
   "name": "python3"
  },
  "language_info": {
   "codemirror_mode": {
    "name": "ipython",
    "version": 3
   },
   "file_extension": ".py",
   "mimetype": "text/x-python",
   "name": "python",
   "nbconvert_exporter": "python",
   "pygments_lexer": "ipython3",
   "version": "3.8.12"
  }
 },
 "nbformat": 4,
 "nbformat_minor": 5
}
